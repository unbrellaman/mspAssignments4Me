{
 "cells": [
  {
   "cell_type": "markdown",
   "metadata": {},
   "source": [
    "## Some simple F0 estimation methods, implemented by https://gist.github.com/endolith/255291"
   ]
  },
  {
   "cell_type": "code",
   "execution_count": 38,
   "metadata": {},
   "outputs": [
    {
     "name": "stderr",
     "output_type": "stream",
     "text": [
      "/anaconda3/lib/python3.6/site-packages/ipykernel_launcher.py:51: MatplotlibDeprecationWarning: pyplot.hold is deprecated.\n",
      "    Future behavior will be consistent with the long-time default:\n",
      "    plot commands add elements without first clearing the\n",
      "    Axes and/or Figure.\n",
      "/anaconda3/lib/python3.6/site-packages/matplotlib/__init__.py:911: MatplotlibDeprecationWarning: axes.hold is deprecated. Please remove it from your matplotlibrc and/or style files.\n",
      "  mplDeprecation)\n",
      "/anaconda3/lib/python3.6/site-packages/matplotlib/rcsetup.py:156: MatplotlibDeprecationWarning: axes.hold is deprecated, will be removed in 3.0\n",
      "  mplDeprecation)\n"
     ]
    },
    {
     "data": {
      "image/png": "[encoded data removed]",
      "text/plain": [
       "<Figure size 432x288 with 1 Axes>"
      ]
     },
     "metadata": {},
     "output_type": "display_data"
    }
   ],
   "source": [
    "from __future__ import division\n",
    "from numpy import polyfit, arange\n",
    "\n",
    "def parabolic(f, x):\n",
    "    \"\"\"Quadratic interpolation for estimating the true position of an\n",
    "    inter-sample maximum when nearby samples are known.\n",
    "   \n",
    "    f is a vector and x is an index for that vector.\n",
    "   \n",
    "    Returns (vx, vy), the coordinates of the vertex of a parabola that goes\n",
    "    through point x and its two neighbors.\n",
    "   \n",
    "    Example:\n",
    "    Defining a vector f with a local maximum at index 3 (= 6), find local\n",
    "    maximum if points 2, 3, and 4 actually defined a parabola.\n",
    "   \n",
    "    In [3]: f = [2, 3, 1, 6, 4, 2, 3, 1]\n",
    "   \n",
    "    In [4]: parabolic(f, argmax(f))\n",
    "    Out[4]: (3.2142857142857144, 6.1607142857142856)\n",
    "   \n",
    "    \"\"\"\n",
    "    xv = 1/2. * (f[x-1] - f[x+1]) / (f[x-1] - 2 * f[x] + f[x+1]) + x\n",
    "    yv = f[x] - 1/4. * (f[x-1] - f[x+1]) * (xv - x)\n",
    "    return (xv, yv)\n",
    "\n",
    "\n",
    "def parabolic_polyfit(f, x, n):\n",
    "    \"\"\"Use the built-in polyfit() function to find the peak of a parabola\n",
    "    \n",
    "    f is a vector and x is an index for that vector.\n",
    "    \n",
    "    n is the number of samples of the curve used to fit the parabola.\n",
    "    \"\"\"    \n",
    "    a, b, c = polyfit(arange(x-n//2, x+n//2+1), f[x-n//2:x+n//2+1], 2)\n",
    "    xv = -0.5 * b/a\n",
    "    yv = a * xv**2 + b * xv + c\n",
    "    return (xv, yv)\n",
    "\n",
    "\n",
    "if __name__==\"__main__\":\n",
    "    from numpy import argmax\n",
    "    import matplotlib.pyplot as plt\n",
    "    \n",
    "    y = [2, 1, 4, 8, 11, 10, 7, 3, 1, 1]\n",
    "    \n",
    "    xm, ym = argmax(y), y[argmax(y)]\n",
    "    xp, yp = parabolic(y, argmax(y))\n",
    "    \n",
    "    plot = plt.plot(y)\n",
    "    plt.hold(True)\n",
    "    plt.plot(xm, ym, 'o', color='silver')\n",
    "    plt.plot(xp, yp, 'o', color='blue')\n",
    "    plt.title('silver = max, blue = estimated max')\n"
   ]
  },
  {
   "cell_type": "code",
   "execution_count": 39,
   "metadata": {},
   "outputs": [
    {
     "ename": "ModuleNotFoundError",
     "evalue": "No module named 'scikits'",
     "output_type": "error",
     "traceback": [
      "\u001b[0;31m---------------------------------------------------------------------------\u001b[0m",
      "\u001b[0;31mModuleNotFoundError\u001b[0m                       Traceback (most recent call last)",
      "\u001b[0;32m<ipython-input-39-de01b62e53fe>\u001b[0m in \u001b[0;36m<module>\u001b[0;34m()\u001b[0m\n\u001b[1;32m      8\u001b[0m \u001b[0;32mtry\u001b[0m\u001b[0;34m:\u001b[0m\u001b[0;34m\u001b[0m\u001b[0m\n\u001b[0;32m----> 9\u001b[0;31m     \u001b[0;32mimport\u001b[0m \u001b[0msoundfile\u001b[0m \u001b[0;32mas\u001b[0m \u001b[0msf\u001b[0m\u001b[0;34m\u001b[0m\u001b[0m\n\u001b[0m\u001b[1;32m     10\u001b[0m \u001b[0;32mexcept\u001b[0m \u001b[0mImportError\u001b[0m\u001b[0;34m:\u001b[0m\u001b[0;34m\u001b[0m\u001b[0m\n",
      "\u001b[0;31mModuleNotFoundError\u001b[0m: No module named 'soundfile'",
      "\nDuring handling of the above exception, another exception occurred:\n",
      "\u001b[0;31mModuleNotFoundError\u001b[0m                       Traceback (most recent call last)",
      "\u001b[0;32m<ipython-input-39-de01b62e53fe>\u001b[0m in \u001b[0;36m<module>\u001b[0;34m()\u001b[0m\n\u001b[1;32m      9\u001b[0m     \u001b[0;32mimport\u001b[0m \u001b[0msoundfile\u001b[0m \u001b[0;32mas\u001b[0m \u001b[0msf\u001b[0m\u001b[0;34m\u001b[0m\u001b[0m\n\u001b[1;32m     10\u001b[0m \u001b[0;32mexcept\u001b[0m \u001b[0mImportError\u001b[0m\u001b[0;34m:\u001b[0m\u001b[0;34m\u001b[0m\u001b[0m\n\u001b[0;32m---> 11\u001b[0;31m     \u001b[0;32mfrom\u001b[0m \u001b[0mscikits\u001b[0m\u001b[0;34m.\u001b[0m\u001b[0maudiolab\u001b[0m \u001b[0;32mimport\u001b[0m \u001b[0mflacread\u001b[0m\u001b[0;34m\u001b[0m\u001b[0m\n\u001b[0m",
      "\u001b[0;31mModuleNotFoundError\u001b[0m: No module named 'scikits'"
     ]
    }
   ],
   "source": [
    "from __future__ import division\n",
    "from numpy.fft import rfft\n",
    "from numpy import argmax, mean, diff, log\n",
    "from matplotlib.mlab import find\n",
    "from scipy.signal import blackmanharris, fftconvolve\n",
    "from time import time\n",
    "import sys\n",
    "try:\n",
    "    import soundfile as sf\n",
    "except ImportError:\n",
    "    from scikits.audiolab import flacread"
   ]
  },
  {
   "cell_type": "code",
   "execution_count": 40,
   "metadata": {},
   "outputs": [],
   "source": [
    "def freq_from_crossings(sig, fs):\n",
    "    \"\"\"\n",
    "    Estimate frequency by counting zero crossings\n",
    "    \"\"\"\n",
    "    # Find all indices right before a rising-edge zero crossing\n",
    "    indices = find((sig[1:] >= 0) & (sig[:-1] < 0))\n",
    "\n",
    "    # Naive (Measures 1000.185 Hz for 1000 Hz, for instance)\n",
    "    # crossings = indices\n",
    "\n",
    "    # More accurate, using linear interpolation to find intersample\n",
    "    # zero-crossings (Measures 1000.000129 Hz for 1000 Hz, for instance)\n",
    "    crossings = [i - sig[i] / (sig[i+1] - sig[i]) for i in indices]\n",
    "\n",
    "    # Some other interpolation based on neighboring points might be better.\n",
    "    # Spline, cubic, whatever\n",
    "\n",
    "    return fs / mean(diff(crossings))"
   ]
  },
  {
   "cell_type": "code",
   "execution_count": 41,
   "metadata": {},
   "outputs": [],
   "source": [
    "def freq_from_fft(sig, fs):\n",
    "    \"\"\"\n",
    "    Estimate frequency from peak of FFT\n",
    "    \"\"\"\n",
    "    # Compute Fourier transform of windowed signal\n",
    "    windowed = sig * blackmanharris(len(sig))\n",
    "    f = rfft(windowed)\n",
    "\n",
    "    # Find the peak and interpolate to get a more accurate peak\n",
    "    i = argmax(abs(f))  # Just use this for less-accurate, naive version\n",
    "    true_i = parabolic(log(abs(f)), i)[0]\n",
    "\n",
    "    # Convert to equivalent frequency\n",
    "    return fs * true_i / len(windowed)"
   ]
  },
  {
   "cell_type": "code",
   "execution_count": 42,
   "metadata": {},
   "outputs": [],
   "source": [
    "def freq_from_autocorr(sig, fs):\n",
    "    \"\"\"\n",
    "    Estimate frequency using autocorrelation\n",
    "    \"\"\"\n",
    "    # Calculate autocorrelation (same thing as convolution, but with\n",
    "    # one input reversed in time), and throw away the negative lags\n",
    "    corr = fftconvolve(sig, sig[::-1], mode='full')\n",
    "    corr = corr[len(corr)//2:]\n",
    "\n",
    "    # Find the first low point\n",
    "    d = diff(corr)\n",
    "    start = find(d > 0)[0]\n",
    "\n",
    "    # Find the next peak after the low point (other than 0 lag).  This bit is\n",
    "    # not reliable for long signals, due to the desired peak occurring between\n",
    "    # samples, and other peaks appearing higher.\n",
    "    # Should use a weighting function to de-emphasize the peaks at longer lags.\n",
    "    peak = argmax(corr[start:]) + start\n",
    "    px, py = parabolic(corr, peak)\n",
    "\n",
    "    return fs / px"
   ]
  },
  {
   "cell_type": "code",
   "execution_count": 43,
   "metadata": {},
   "outputs": [
    {
     "name": "stdout",
     "output_type": "stream",
     "text": [
      "Reading file \"avmA.wav\"\n",
      "\n"
     ]
    },
    {
     "ename": "NameError",
     "evalue": "name 'flacread' is not defined",
     "output_type": "error",
     "traceback": [
      "\u001b[0;31m---------------------------------------------------------------------------\u001b[0m",
      "\u001b[0;31mNameError\u001b[0m                                 Traceback (most recent call last)",
      "\u001b[0;32m<ipython-input-43-b20d42f81683>\u001b[0m in \u001b[0;36m<module>\u001b[0;34m()\u001b[0m\n\u001b[1;32m      5\u001b[0m \u001b[0;32mtry\u001b[0m\u001b[0;34m:\u001b[0m\u001b[0;34m\u001b[0m\u001b[0m\n\u001b[0;32m----> 6\u001b[0;31m     \u001b[0msignal\u001b[0m\u001b[0;34m,\u001b[0m \u001b[0mfs\u001b[0m \u001b[0;34m=\u001b[0m \u001b[0msf\u001b[0m\u001b[0;34m.\u001b[0m\u001b[0mread\u001b[0m\u001b[0;34m(\u001b[0m\u001b[0mfilename\u001b[0m\u001b[0;34m)\u001b[0m\u001b[0;34m\u001b[0m\u001b[0m\n\u001b[0m\u001b[1;32m      7\u001b[0m \u001b[0;32mexcept\u001b[0m \u001b[0mNameError\u001b[0m\u001b[0;34m:\u001b[0m\u001b[0;34m\u001b[0m\u001b[0m\n",
      "\u001b[0;31mNameError\u001b[0m: name 'sf' is not defined",
      "\nDuring handling of the above exception, another exception occurred:\n",
      "\u001b[0;31mNameError\u001b[0m                                 Traceback (most recent call last)",
      "\u001b[0;32m<ipython-input-43-b20d42f81683>\u001b[0m in \u001b[0;36m<module>\u001b[0;34m()\u001b[0m\n\u001b[1;32m      6\u001b[0m     \u001b[0msignal\u001b[0m\u001b[0;34m,\u001b[0m \u001b[0mfs\u001b[0m \u001b[0;34m=\u001b[0m \u001b[0msf\u001b[0m\u001b[0;34m.\u001b[0m\u001b[0mread\u001b[0m\u001b[0;34m(\u001b[0m\u001b[0mfilename\u001b[0m\u001b[0;34m)\u001b[0m\u001b[0;34m\u001b[0m\u001b[0m\n\u001b[1;32m      7\u001b[0m \u001b[0;32mexcept\u001b[0m \u001b[0mNameError\u001b[0m\u001b[0;34m:\u001b[0m\u001b[0;34m\u001b[0m\u001b[0m\n\u001b[0;32m----> 8\u001b[0;31m     \u001b[0msignal\u001b[0m\u001b[0;34m,\u001b[0m \u001b[0mfs\u001b[0m\u001b[0;34m,\u001b[0m \u001b[0menc\u001b[0m \u001b[0;34m=\u001b[0m \u001b[0mflacread\u001b[0m\u001b[0;34m(\u001b[0m\u001b[0mfilename\u001b[0m\u001b[0;34m)\u001b[0m\u001b[0;34m\u001b[0m\u001b[0m\n\u001b[0m\u001b[1;32m      9\u001b[0m \u001b[0;34m\u001b[0m\u001b[0m\n\u001b[1;32m     10\u001b[0m \u001b[0mprint\u001b[0m\u001b[0;34m(\u001b[0m\u001b[0;34m'Calculating frequency from FFT:'\u001b[0m\u001b[0;34m)\u001b[0m\u001b[0;34m,\u001b[0m\u001b[0;34m\u001b[0m\u001b[0m\n",
      "\u001b[0;31mNameError\u001b[0m: name 'flacread' is not defined"
     ]
    }
   ],
   "source": [
    "#filename = sys.argv[1]\n",
    "filename='avmA.wav'\n",
    "\n",
    "print('Reading file \"%s\"\\n' % filename)\n",
    "try:\n",
    "    signal, fs = sf.read(filename)\n",
    "except NameError:\n",
    "    signal, fs, enc = flacread(filename)\n",
    "\n",
    "print('Calculating frequency from FFT:'),\n",
    "start_time = time()\n",
    "print('%f Hz' % freq_from_fft(signal, fs))\n",
    "print('Time elapsed: %.3f s\\n' % (time() - start_time))\n",
    "\n",
    "print('Calculating frequency from zero crossings:'),\n",
    "start_time = time()\n",
    "print('%f Hz' % freq_from_crossings(signal, fs))\n",
    "print('Time elapsed: %.3f s\\n' % (time() - start_time))\n",
    "\n",
    "print('Calculating frequency from autocorrelation:'),\n",
    "start_time = time()\n",
    "print('%f Hz' % freq_from_autocorr(signal, fs))\n",
    "print('Time elapsed: %.3f s\\n' % (time() - start_time))"
   ]
  },
  {
   "cell_type": "markdown",
   "metadata": {},
   "source": [
    "## YIN algorithm, implemented in Aubio: https://aubio.org/"
   ]
  },
  {
   "cell_type": "code",
   "execution_count": 44,
   "metadata": {},
   "outputs": [],
   "source": [
    "import matplotlib.pyplot as plt\n",
    "import numpy as np\n",
    "import aubio"
   ]
  },
  {
   "cell_type": "code",
   "execution_count": 45,
   "metadata": {},
   "outputs": [],
   "source": [
    "# YIN pitches\n",
    "filename='avmA.wav'\n",
    "downsample = 1\n",
    "samplerate = 0\n",
    "win_s = 1764 // downsample # fft size\n",
    "hop_s = 441 // downsample # hop size\n",
    "s = aubio.source(filename, samplerate, hop_s)\n",
    "samplerate = s.samplerate\n",
    "tolerance = 0.1\n",
    "\n",
    "start_time = time()\n",
    "pitch_o = aubio.pitch(\"yin\", win_s, hop_s, samplerate) \n",
    "#pitch_o.set_unit(\"midi\")\n",
    "pitch_o.set_tolerance(tolerance)\n",
    "\n",
    "pitchesYIN = []\n",
    "confidences = [] \n",
    "total_frames = 0\n",
    "while True:\n",
    "    samples, read = s()\n",
    "    pitch = pitch_o(samples)[0]\n",
    "    pitch = int(round(pitch))\n",
    "    confidence = pitch_o.get_confidence()\n",
    "    pitchesYIN += [pitch]\n",
    "    confidences += [confidence]\n",
    "    total_frames += read\n",
    "    if read < hop_s:\n",
    "         break        \n",
    "stop_time = time()            "
   ]
  },
  {
   "cell_type": "code",
   "execution_count": 33,
   "metadata": {},
   "outputs": [
    {
     "name": "stdout",
     "output_type": "stream",
     "text": [
      "Calculating frequency from YIN:\n",
      "453.268966 Hz\n",
      "Time elapsed: 0.029 s\n",
      "\n"
     ]
    }
   ],
   "source": [
    "print('Calculating frequency from YIN:'),\n",
    "print('%f Hz' % mean(pitchesYIN))\n",
    "print('Time elapsed: %.3f s\\n' % (stop_time - start_time))"
   ]
  },
  {
   "cell_type": "code",
   "execution_count": 34,
   "metadata": {},
   "outputs": [
    {
     "data": {
      "text/plain": [
       "<matplotlib.legend.Legend at 0x1c20042128>"
      ]
     },
     "execution_count": 34,
     "metadata": {},
     "output_type": "execute_result"
    },
    {
     "data": {
      "image/png": "[encoded data removed]",
      "text/plain": [
       "<Figure size 864x576 with 1 Axes>"
      ]
     },
     "metadata": {},
     "output_type": "display_data"
    }
   ],
   "source": [
    "fig, (ax1) = plt.subplots(1, 1, sharex=True, sharey=True, figsize=(12, 8))\n",
    "ax1.plot(np.asarray(pitchesYIN), label='YIN', color='blue')\n",
    "ax1.legend(loc=\"upper right\")"
   ]
  },
  {
   "cell_type": "code",
   "execution_count": 35,
   "metadata": {},
   "outputs": [
    {
     "data": {
      "text/plain": [
       "<aubio.pitch at 0x1c1fe2e660>"
      ]
     },
     "execution_count": 35,
     "metadata": {},
     "output_type": "execute_result"
    }
   ],
   "source": [
    "pitch_o"
   ]
  },
  {
   "cell_type": "code",
   "execution_count": 36,
   "metadata": {},
   "outputs": [
    {
     "data": {
      "text/plain": [
       "0.9906840920448303"
      ]
     },
     "execution_count": 36,
     "metadata": {},
     "output_type": "execute_result"
    }
   ],
   "source": [
    "pitch_o.get_confidence()"
   ]
  },
  {
   "cell_type": "code",
   "execution_count": 12,
   "metadata": {},
   "outputs": [
    {
     "data": {
      "text/plain": [
       "array([460.1306], dtype=float32)"
      ]
     },
     "execution_count": 12,
     "metadata": {},
     "output_type": "execute_result"
    }
   ],
   "source": [
    "pitch_o(samples)"
   ]
  },
  {
   "cell_type": "code",
   "execution_count": 13,
   "metadata": {},
   "outputs": [
    {
     "data": {
      "text/plain": [
       "array([ 0.02285767,  0.02407837,  0.02703857,  0.02990723,  0.02612305,\n",
       "        0.02508545,  0.02719116,  0.02774048,  0.02563477,  0.02749634,\n",
       "        0.02990723,  0.03262329,  0.03500366,  0.03549194,  0.03640747,\n",
       "        0.03747559,  0.03433228,  0.03222656,  0.03231812,  0.03030396,\n",
       "        0.02783203,  0.02719116,  0.0274353 ,  0.02706909,  0.02542114,\n",
       "        0.02084351,  0.02038574,  0.02163696,  0.02047729,  0.01831055,\n",
       "        0.02056885,  0.02526855,  0.02792358,  0.02761841,  0.02859497,\n",
       "        0.03024292,  0.02975464,  0.02996826,  0.02947998,  0.02957153,\n",
       "        0.03042603,  0.02822876,  0.02578735,  0.02822876,  0.02633667,\n",
       "        0.02218628,  0.02062988,  0.0178833 ,  0.01641846,  0.01315308,\n",
       "        0.01089478,  0.00894165,  0.00436401,  0.00592041,  0.00759888,\n",
       "        0.00634766,  0.00698853,  0.00390625,  0.00027466, -0.00094604,\n",
       "       -0.00424194, -0.00762939, -0.01147461, -0.01504517, -0.01660156,\n",
       "       -0.01925659, -0.02648926, -0.02905273, -0.02813721, -0.03237915,\n",
       "       -0.03509521, -0.03915405, -0.04373169, -0.04421997, -0.04873657,\n",
       "       -0.05197144, -0.05001831, -0.05050659, -0.05322266, -0.05358887,\n",
       "       -0.05273438, -0.05322266, -0.0553894 , -0.0557251 , -0.05706787,\n",
       "       -0.05740356, -0.0586853 , -0.0592041 , -0.0541687 , -0.04956055,\n",
       "       -0.0458374 , -0.04144287, -0.03158569, -0.02160645, -0.01797485,\n",
       "       -0.0144043 , -0.00839233, -0.00314331,  0.00146484,  0.00033569,\n",
       "        0.00146484,  0.00817871,  0.00915527,  0.00952148,  0.01358032,\n",
       "        0.01480103,  0.01635742,  0.01629639,  0.01559448,  0.01705933,\n",
       "        0.01748657,  0.01754761,  0.01916504,  0.02096558,  0.02474976,\n",
       "        0.02490234,  0.02618408,  0.02987671,  0.02893066,  0.02902222,\n",
       "        0.02859497,  0.0274353 ,  0.0305481 ,  0.03018188,  0.0305481 ,\n",
       "        0.03442383,  0.03421021,  0.03500366,  0.03317261,  0.03009033,\n",
       "        0.03005981,  0.02838135,  0.02539062,  0.02514648,  0.02597046,\n",
       "        0.02789307,  0.02838135,  0.03060913,  0.03292847,  0.03353882,\n",
       "        0.03549194,  0.03451538,  0.03433228,  0.03619385,  0.03451538,\n",
       "        0.03170776,  0.03201294,  0.02902222,  0.02502441,  0.02325439,\n",
       "        0.01947021,  0.01559448,  0.01535034,  0.01449585,  0.01278687,\n",
       "        0.01135254,  0.01022339,  0.00964355,  0.00686646,  0.00738525,\n",
       "        0.00668335,  0.00170898, -0.00036621, -0.00405884, -0.00897217,\n",
       "       -0.01016235, -0.01324463, -0.01467896, -0.0145874 , -0.01837158,\n",
       "       -0.02194214, -0.02334595, -0.02761841, -0.03164673, -0.03482056,\n",
       "       -0.03970337, -0.04141235, -0.04318237, -0.04528809, -0.04418945,\n",
       "       -0.04464722, -0.04464722, -0.04553223, -0.04751587, -0.04782104,\n",
       "       -0.05075073, -0.04928589, -0.04824829, -0.05435181, -0.05343628,\n",
       "       -0.05297852, -0.05258179, -0.04794312, -0.04840088, -0.04721069,\n",
       "       -0.04159546, -0.03842163, -0.03469849, -0.03186035, -0.02862549,\n",
       "       -0.02011108, -0.015625  , -0.01455688, -0.01049805, -0.00650024,\n",
       "       -0.00219727,  0.00134277,  0.00170898,  0.00588989,  0.01071167,\n",
       "        0.01184082,  0.01498413,  0.01547241,  0.01473999,  0.01678467,\n",
       "        0.01828003,  0.02069092,  0.02529907,  0.02636719,  0.02828979,\n",
       "        0.03079224,  0.0319519 ,  0.03182983,  0.03265381,  0.03305054,\n",
       "        0.0335083 ,  0.03308105,  0.03170776,  0.03106689,  0.03320312,\n",
       "        0.03457642,  0.03305054,  0.0335083 ,  0.03424072,  0.03164673,\n",
       "        0.03137207,  0.02911377,  0.02651978,  0.02944946,  0.02658081,\n",
       "        0.02636719,  0.02932739,  0.02947998,  0.0324707 ,  0.03375244,\n",
       "        0.0324707 ,  0.03442383,  0.03305054,  0.03344727,  0.03613281,\n",
       "        0.03378296,  0.03262329,  0.03253174,  0.02758789,  0.02365112,\n",
       "        0.02001953,  0.01266479,  0.01254272,  0.01153564,  0.00714111,\n",
       "        0.00720215,  0.00619507,  0.00482178,  0.00354004,  0.        ,\n",
       "       -0.00228882, -0.00369263, -0.00448608, -0.0078125 , -0.01080322,\n",
       "       -0.01223755, -0.0149231 , -0.01333618, -0.01370239, -0.01696777,\n",
       "       -0.01687622, -0.01889038, -0.0213623 , -0.02532959, -0.02935791,\n",
       "       -0.03182983, -0.03512573, -0.03695679, -0.03726196, -0.03778076,\n",
       "       -0.03723145, -0.03771973, -0.03713989, -0.03881836, -0.04388428,\n",
       "       -0.04467773, -0.04559326, -0.04544067, -0.04333496, -0.04425049,\n",
       "       -0.04559326, -0.04623413, -0.04968262, -0.04989624, -0.04885864,\n",
       "       -0.04953003, -0.04693604, -0.04458618, -0.04089355, -0.03564453,\n",
       "       -0.03134155, -0.02651978, -0.01882935, -0.01269531, -0.01092529,\n",
       "       -0.00732422, -0.00360107, -0.00338745,  0.00125122,  0.00283813,\n",
       "        0.00390625,  0.00973511,  0.01095581,  0.01321411,  0.01858521,\n",
       "        0.01782227,  0.01889038,  0.02243042,  0.02252197,  0.02383423,\n",
       "        0.02667236,  0.02838135,  0.03015137,  0.03277588,  0.03225708,\n",
       "        0.        ,  0.        ,  0.        ,  0.        ,  0.        ,\n",
       "        0.        ,  0.        ,  0.        ,  0.        ,  0.        ,\n",
       "        0.        ,  0.        ,  0.        ,  0.        ,  0.        ,\n",
       "        0.        ,  0.        ,  0.        ,  0.        ,  0.        ,\n",
       "        0.        ,  0.        ,  0.        ,  0.        ,  0.        ,\n",
       "        0.        ,  0.        ,  0.        ,  0.        ,  0.        ,\n",
       "        0.        ,  0.        ,  0.        ,  0.        ,  0.        ,\n",
       "        0.        ,  0.        ,  0.        ,  0.        ,  0.        ,\n",
       "        0.        ,  0.        ,  0.        ,  0.        ,  0.        ,\n",
       "        0.        ,  0.        ,  0.        ,  0.        ,  0.        ,\n",
       "        0.        ,  0.        ,  0.        ,  0.        ,  0.        ,\n",
       "        0.        ,  0.        ,  0.        ,  0.        ,  0.        ,\n",
       "        0.        ,  0.        ,  0.        ,  0.        ,  0.        ,\n",
       "        0.        ,  0.        ,  0.        ,  0.        ,  0.        ,\n",
       "        0.        ,  0.        ,  0.        ,  0.        ,  0.        ,\n",
       "        0.        ,  0.        ,  0.        ,  0.        ,  0.        ,\n",
       "        0.        ,  0.        ,  0.        ,  0.        ,  0.        ,\n",
       "        0.        ,  0.        ,  0.        ,  0.        ,  0.        ,\n",
       "        0.        ,  0.        ,  0.        ,  0.        ,  0.        ,\n",
       "        0.        ,  0.        ,  0.        ,  0.        ,  0.        ,\n",
       "        0.        ,  0.        ,  0.        ,  0.        ,  0.        ,\n",
       "        0.        ,  0.        ,  0.        ,  0.        ,  0.        ,\n",
       "        0.        ], dtype=float32)"
      ]
     },
     "execution_count": 13,
     "metadata": {},
     "output_type": "execute_result"
    }
   ],
   "source": [
    "samples"
   ]
  },
  {
   "cell_type": "code",
   "execution_count": 14,
   "metadata": {},
   "outputs": [
    {
     "data": {
      "text/plain": [
       "array([ 0.02285767,  0.02407837,  0.02703857,  0.02990723,  0.02612305,\n",
       "        0.02508545,  0.02719116,  0.02774048,  0.02563477,  0.02749634,\n",
       "        0.02990723,  0.03262329,  0.03500366,  0.03549194,  0.03640747,\n",
       "        0.03747559,  0.03433228,  0.03222656,  0.03231812,  0.03030396,\n",
       "        0.02783203,  0.02719116,  0.0274353 ,  0.02706909,  0.02542114,\n",
       "        0.02084351,  0.02038574,  0.02163696,  0.02047729,  0.01831055,\n",
       "        0.02056885,  0.02526855,  0.02792358,  0.02761841,  0.02859497,\n",
       "        0.03024292,  0.02975464,  0.02996826,  0.02947998,  0.02957153,\n",
       "        0.03042603,  0.02822876,  0.02578735,  0.02822876,  0.02633667,\n",
       "        0.02218628,  0.02062988,  0.0178833 ,  0.01641846,  0.01315308,\n",
       "        0.01089478,  0.00894165,  0.00436401,  0.00592041,  0.00759888,\n",
       "        0.00634766,  0.00698853,  0.00390625,  0.00027466, -0.00094604,\n",
       "       -0.00424194, -0.00762939, -0.01147461, -0.01504517, -0.01660156,\n",
       "       -0.01925659, -0.02648926, -0.02905273, -0.02813721, -0.03237915,\n",
       "       -0.03509521, -0.03915405, -0.04373169, -0.04421997, -0.04873657,\n",
       "       -0.05197144, -0.05001831, -0.05050659, -0.05322266, -0.05358887,\n",
       "       -0.05273438, -0.05322266, -0.0553894 , -0.0557251 , -0.05706787,\n",
       "       -0.05740356, -0.0586853 , -0.0592041 , -0.0541687 , -0.04956055,\n",
       "       -0.0458374 , -0.04144287, -0.03158569, -0.02160645, -0.01797485,\n",
       "       -0.0144043 , -0.00839233, -0.00314331,  0.00146484,  0.00033569,\n",
       "        0.00146484,  0.00817871,  0.00915527,  0.00952148,  0.01358032,\n",
       "        0.01480103,  0.01635742,  0.01629639,  0.01559448,  0.01705933,\n",
       "        0.01748657,  0.01754761,  0.01916504,  0.02096558,  0.02474976,\n",
       "        0.02490234,  0.02618408,  0.02987671,  0.02893066,  0.02902222,\n",
       "        0.02859497,  0.0274353 ,  0.0305481 ,  0.03018188,  0.0305481 ,\n",
       "        0.03442383,  0.03421021,  0.03500366,  0.03317261,  0.03009033,\n",
       "        0.03005981,  0.02838135,  0.02539062,  0.02514648,  0.02597046,\n",
       "        0.02789307,  0.02838135,  0.03060913,  0.03292847,  0.03353882,\n",
       "        0.03549194,  0.03451538,  0.03433228,  0.03619385,  0.03451538,\n",
       "        0.03170776,  0.03201294,  0.02902222,  0.02502441,  0.02325439,\n",
       "        0.01947021,  0.01559448,  0.01535034,  0.01449585,  0.01278687,\n",
       "        0.01135254,  0.01022339,  0.00964355,  0.00686646,  0.00738525,\n",
       "        0.00668335,  0.00170898, -0.00036621, -0.00405884, -0.00897217,\n",
       "       -0.01016235, -0.01324463, -0.01467896, -0.0145874 , -0.01837158,\n",
       "       -0.02194214, -0.02334595, -0.02761841, -0.03164673, -0.03482056,\n",
       "       -0.03970337, -0.04141235, -0.04318237, -0.04528809, -0.04418945,\n",
       "       -0.04464722, -0.04464722, -0.04553223, -0.04751587, -0.04782104,\n",
       "       -0.05075073, -0.04928589, -0.04824829, -0.05435181, -0.05343628,\n",
       "       -0.05297852, -0.05258179, -0.04794312, -0.04840088, -0.04721069,\n",
       "       -0.04159546, -0.03842163, -0.03469849, -0.03186035, -0.02862549,\n",
       "       -0.02011108, -0.015625  , -0.01455688, -0.01049805, -0.00650024,\n",
       "       -0.00219727,  0.00134277,  0.00170898,  0.00588989,  0.01071167,\n",
       "        0.01184082,  0.01498413,  0.01547241,  0.01473999,  0.01678467,\n",
       "        0.01828003,  0.02069092,  0.02529907,  0.02636719,  0.02828979,\n",
       "        0.03079224,  0.0319519 ,  0.03182983,  0.03265381,  0.03305054,\n",
       "        0.0335083 ,  0.03308105,  0.03170776,  0.03106689,  0.03320312,\n",
       "        0.03457642,  0.03305054,  0.0335083 ,  0.03424072,  0.03164673,\n",
       "        0.03137207,  0.02911377,  0.02651978,  0.02944946,  0.02658081,\n",
       "        0.02636719,  0.02932739,  0.02947998,  0.0324707 ,  0.03375244,\n",
       "        0.0324707 ,  0.03442383,  0.03305054,  0.03344727,  0.03613281,\n",
       "        0.03378296,  0.03262329,  0.03253174,  0.02758789,  0.02365112,\n",
       "        0.02001953,  0.01266479,  0.01254272,  0.01153564,  0.00714111,\n",
       "        0.00720215,  0.00619507,  0.00482178,  0.00354004,  0.        ,\n",
       "       -0.00228882, -0.00369263, -0.00448608, -0.0078125 , -0.01080322,\n",
       "       -0.01223755, -0.0149231 , -0.01333618, -0.01370239, -0.01696777,\n",
       "       -0.01687622, -0.01889038, -0.0213623 , -0.02532959, -0.02935791,\n",
       "       -0.03182983, -0.03512573, -0.03695679, -0.03726196, -0.03778076,\n",
       "       -0.03723145, -0.03771973, -0.03713989, -0.03881836, -0.04388428,\n",
       "       -0.04467773, -0.04559326, -0.04544067, -0.04333496, -0.04425049,\n",
       "       -0.04559326, -0.04623413, -0.04968262, -0.04989624, -0.04885864,\n",
       "       -0.04953003, -0.04693604, -0.04458618, -0.04089355, -0.03564453,\n",
       "       -0.03134155, -0.02651978, -0.01882935, -0.01269531, -0.01092529,\n",
       "       -0.00732422, -0.00360107, -0.00338745,  0.00125122,  0.00283813,\n",
       "        0.00390625,  0.00973511,  0.01095581,  0.01321411,  0.01858521,\n",
       "        0.01782227,  0.01889038,  0.02243042,  0.02252197,  0.02383423,\n",
       "        0.02667236,  0.02838135,  0.03015137,  0.03277588,  0.03225708,\n",
       "        0.        ,  0.        ,  0.        ,  0.        ,  0.        ,\n",
       "        0.        ,  0.        ,  0.        ,  0.        ,  0.        ,\n",
       "        0.        ,  0.        ,  0.        ,  0.        ,  0.        ,\n",
       "        0.        ,  0.        ,  0.        ,  0.        ,  0.        ,\n",
       "        0.        ,  0.        ,  0.        ,  0.        ,  0.        ,\n",
       "        0.        ,  0.        ,  0.        ,  0.        ,  0.        ,\n",
       "        0.        ,  0.        ,  0.        ,  0.        ,  0.        ,\n",
       "        0.        ,  0.        ,  0.        ,  0.        ,  0.        ,\n",
       "        0.        ,  0.        ,  0.        ,  0.        ,  0.        ,\n",
       "        0.        ,  0.        ,  0.        ,  0.        ,  0.        ,\n",
       "        0.        ,  0.        ,  0.        ,  0.        ,  0.        ,\n",
       "        0.        ,  0.        ,  0.        ,  0.        ,  0.        ,\n",
       "        0.        ,  0.        ,  0.        ,  0.        ,  0.        ,\n",
       "        0.        ,  0.        ,  0.        ,  0.        ,  0.        ,\n",
       "        0.        ,  0.        ,  0.        ,  0.        ,  0.        ,\n",
       "        0.        ,  0.        ,  0.        ,  0.        ,  0.        ,\n",
       "        0.        ,  0.        ,  0.        ,  0.        ,  0.        ,\n",
       "        0.        ,  0.        ,  0.        ,  0.        ,  0.        ,\n",
       "        0.        ,  0.        ,  0.        ,  0.        ,  0.        ,\n",
       "        0.        ,  0.        ,  0.        ,  0.        ,  0.        ,\n",
       "        0.        ,  0.        ,  0.        ,  0.        ,  0.        ,\n",
       "        0.        ,  0.        ,  0.        ,  0.        ,  0.        ,\n",
       "        0.        ], dtype=float32)"
      ]
     },
     "execution_count": 14,
     "metadata": {},
     "output_type": "execute_result"
    }
   ],
   "source": [
    "samples"
   ]
  },
  {
   "cell_type": "code",
   "execution_count": 15,
   "metadata": {},
   "outputs": [
    {
     "ename": "SyntaxError",
     "evalue": "invalid syntax (<ipython-input-15-9ae22869553b>, line 1)",
     "output_type": "error",
     "traceback": [
      "\u001b[0;36m  File \u001b[0;32m\"<ipython-input-15-9ae22869553b>\"\u001b[0;36m, line \u001b[0;32m1\u001b[0m\n\u001b[0;31m    =\u001b[0m\n\u001b[0m    ^\u001b[0m\n\u001b[0;31mSyntaxError\u001b[0m\u001b[0;31m:\u001b[0m invalid syntax\n"
     ]
    }
   ],
   "source": [
    "="
   ]
  },
  {
   "cell_type": "code",
   "execution_count": null,
   "metadata": {},
   "outputs": [],
   "source": []
  },
  {
   "cell_type": "code",
   "execution_count": null,
   "metadata": {},
   "outputs": [],
   "source": []
  }
 ],
 "metadata": {
  "kernelspec": {
   "display_name": "Python 3",
   "language": "python",
   "name": "python3"
  },
  "language_info": {
   "codemirror_mode": {
    "name": "ipython",
    "version": 3
   },
   "file_extension": ".py",
   "mimetype": "text/x-python",
   "name": "python",
   "nbconvert_exporter": "python",
   "pygments_lexer": "ipython3",
   "version": "3.6.5"
  }
 },
 "nbformat": 4,
 "nbformat_minor": 2
}
